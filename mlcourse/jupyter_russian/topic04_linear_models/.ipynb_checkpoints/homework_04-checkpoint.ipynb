{
 "cells": [
  {
   "cell_type": "code",
   "execution_count": 104,
   "metadata": {},
   "outputs": [],
   "source": [
    "import numpy as np\n",
    "import pandas as pd\n",
    "import seaborn as sns\n",
    "\n",
    "from sklearn.feature_extraction.text import TfidfVectorizer\n",
    "from sklearn.feature_extraction import DictVectorizer\n",
    "from sklearn.model_selection import train_test_split\n",
    "from sklearn.linear_model import Ridge\n",
    "from sklearn.metrics import mean_squared_error\n",
    "\n",
    "import scipy\n",
    "\n",
    "%matplotlib inline\n",
    "from matplotlib import pyplot as plt"
   ]
  },
  {
   "cell_type": "code",
   "execution_count": 105,
   "metadata": {},
   "outputs": [],
   "source": [
    "train_df = pd.read_csv('../../data/howpop_train.csv')\n",
    "test_df  = pd.read_csv('../../data/howpop_test.csv')"
   ]
  },
  {
   "cell_type": "code",
   "execution_count": 106,
   "metadata": {},
   "outputs": [
    {
     "data": {
      "text/html": [
       "<div>\n",
       "<style scoped>\n",
       "    .dataframe tbody tr th:only-of-type {\n",
       "        vertical-align: middle;\n",
       "    }\n",
       "\n",
       "    .dataframe tbody tr th {\n",
       "        vertical-align: top;\n",
       "    }\n",
       "\n",
       "    .dataframe thead th {\n",
       "        text-align: right;\n",
       "    }\n",
       "</style>\n",
       "<table border=\"1\" class=\"dataframe\">\n",
       "  <thead>\n",
       "    <tr style=\"text-align: right;\">\n",
       "      <th></th>\n",
       "      <th>0</th>\n",
       "    </tr>\n",
       "  </thead>\n",
       "  <tbody>\n",
       "    <tr>\n",
       "      <th>url</th>\n",
       "      <td>https://habrahabr.ru/post/18284/</td>\n",
       "    </tr>\n",
       "    <tr>\n",
       "      <th>domain</th>\n",
       "      <td>habrahabr.ru</td>\n",
       "    </tr>\n",
       "    <tr>\n",
       "      <th>post_id</th>\n",
       "      <td>18284</td>\n",
       "    </tr>\n",
       "    <tr>\n",
       "      <th>published</th>\n",
       "      <td>2008-01-01 18:19:00</td>\n",
       "    </tr>\n",
       "    <tr>\n",
       "      <th>author</th>\n",
       "      <td>@Tapac</td>\n",
       "    </tr>\n",
       "    <tr>\n",
       "      <th>flow</th>\n",
       "      <td>develop</td>\n",
       "    </tr>\n",
       "    <tr>\n",
       "      <th>polling</th>\n",
       "      <td>False</td>\n",
       "    </tr>\n",
       "    <tr>\n",
       "      <th>content_len</th>\n",
       "      <td>4305</td>\n",
       "    </tr>\n",
       "    <tr>\n",
       "      <th>title</th>\n",
       "      <td>Новогодний подарок блоггерам — WordPress 2.3.2</td>\n",
       "    </tr>\n",
       "    <tr>\n",
       "      <th>comments</th>\n",
       "      <td>0</td>\n",
       "    </tr>\n",
       "    <tr>\n",
       "      <th>favs</th>\n",
       "      <td>0</td>\n",
       "    </tr>\n",
       "    <tr>\n",
       "      <th>views</th>\n",
       "      <td>236</td>\n",
       "    </tr>\n",
       "    <tr>\n",
       "      <th>votes_plus</th>\n",
       "      <td>0</td>\n",
       "    </tr>\n",
       "    <tr>\n",
       "      <th>votes_minus</th>\n",
       "      <td>0</td>\n",
       "    </tr>\n",
       "    <tr>\n",
       "      <th>views_lognorm</th>\n",
       "      <td>-0.792687</td>\n",
       "    </tr>\n",
       "    <tr>\n",
       "      <th>favs_lognorm</th>\n",
       "      <td>-1.34407</td>\n",
       "    </tr>\n",
       "    <tr>\n",
       "      <th>comments_lognorm</th>\n",
       "      <td>-2.43687</td>\n",
       "    </tr>\n",
       "  </tbody>\n",
       "</table>\n",
       "</div>"
      ],
      "text/plain": [
       "                                                               0\n",
       "url                             https://habrahabr.ru/post/18284/\n",
       "domain                                              habrahabr.ru\n",
       "post_id                                                    18284\n",
       "published                                    2008-01-01 18:19:00\n",
       "author                                                    @Tapac\n",
       "flow                                                     develop\n",
       "polling                                                    False\n",
       "content_len                                                 4305\n",
       "title             Новогодний подарок блоггерам — WordPress 2.3.2\n",
       "comments                                                       0\n",
       "favs                                                           0\n",
       "views                                                        236\n",
       "votes_plus                                                     0\n",
       "votes_minus                                                    0\n",
       "views_lognorm                                          -0.792687\n",
       "favs_lognorm                                            -1.34407\n",
       "comments_lognorm                                        -2.43687"
      ]
     },
     "execution_count": 106,
     "metadata": {},
     "output_type": "execute_result"
    }
   ],
   "source": [
    "train_df.head(1).T"
   ]
  },
  {
   "cell_type": "code",
   "execution_count": 107,
   "metadata": {},
   "outputs": [
    {
     "data": {
      "text/plain": [
       "((134137, 17), (3990, 9))"
      ]
     },
     "execution_count": 107,
     "metadata": {},
     "output_type": "execute_result"
    }
   ],
   "source": [
    "train_df.shape, test_df.shape"
   ]
  },
  {
   "cell_type": "code",
   "execution_count": 108,
   "metadata": {},
   "outputs": [
    {
     "name": "stdout",
     "output_type": "stream",
     "text": [
      "object\n",
      "datetime64[ns]\n"
     ]
    }
   ],
   "source": [
    "print(train_df.published.dtype)\n",
    "train_df['published'] = pd.to_datetime(train_df.published, yearfirst = True)\n",
    "print(train_df.published.dtype)"
   ]
  },
  {
   "cell_type": "code",
   "execution_count": 109,
   "metadata": {},
   "outputs": [
    {
     "data": {
      "image/png": "[encoded data removed]",
      "text/plain": [
       "<Figure size 432x288 with 1 Axes>"
      ]
     },
     "metadata": {
      "needs_background": "light"
     },
     "output_type": "display_data"
    }
   ],
   "source": [
    "train_df['published'].apply(lambda ts: pd.to_datetime(ts).value).plot();"
   ]
  },
  {
   "cell_type": "code",
   "execution_count": 110,
   "metadata": {},
   "outputs": [],
   "source": [
    " df1 = pd.DataFrame({'year': [2015, 2016], 'month': [2, 3], 'day': [4, 5]})"
   ]
  },
  {
   "cell_type": "code",
   "execution_count": 111,
   "metadata": {},
   "outputs": [
    {
     "data": {
      "text/plain": [
       "0   2015-02-04\n",
       "1   2016-03-05\n",
       "dtype: datetime64[ns]"
      ]
     },
     "execution_count": 111,
     "metadata": {},
     "output_type": "execute_result"
    }
   ],
   "source": [
    "pd.to_datetime(df1)"
   ]
  },
  {
   "cell_type": "code",
   "execution_count": 112,
   "metadata": {},
   "outputs": [
    {
     "data": {
      "text/plain": [
       "<matplotlib.axes._subplots.AxesSubplot at 0x7ff4808aa9e8>"
      ]
     },
     "execution_count": 112,
     "metadata": {},
     "output_type": "execute_result"
    },
    {
     "data": {
      "image/png": "[encoded data removed]",
      "text/plain": [
       "<Figure size 720x432 with 2 Axes>"
      ]
     },
     "metadata": {
      "needs_background": "light"
     },
     "output_type": "display_data"
    }
   ],
   "source": [
    "plt.figure(figsize=(10,6))\n",
    "sns.heatmap(train_df.corr(), annot=True)"
   ]
  },
  {
   "cell_type": "code",
   "execution_count": 113,
   "metadata": {},
   "outputs": [
    {
     "data": {
      "text/html": [
       "<div>\n",
       "<style scoped>\n",
       "    .dataframe tbody tr th:only-of-type {\n",
       "        vertical-align: middle;\n",
       "    }\n",
       "\n",
       "    .dataframe tbody tr th {\n",
       "        vertical-align: top;\n",
       "    }\n",
       "\n",
       "    .dataframe thead th {\n",
       "        text-align: right;\n",
       "    }\n",
       "</style>\n",
       "<table border=\"1\" class=\"dataframe\">\n",
       "  <thead>\n",
       "    <tr style=\"text-align: right;\">\n",
       "      <th></th>\n",
       "      <th>url</th>\n",
       "      <th>domain</th>\n",
       "      <th>post_id</th>\n",
       "      <th>published</th>\n",
       "      <th>author</th>\n",
       "      <th>flow</th>\n",
       "      <th>polling</th>\n",
       "      <th>content_len</th>\n",
       "      <th>title</th>\n",
       "      <th>comments</th>\n",
       "      <th>favs</th>\n",
       "      <th>views</th>\n",
       "      <th>votes_plus</th>\n",
       "      <th>votes_minus</th>\n",
       "      <th>views_lognorm</th>\n",
       "      <th>favs_lognorm</th>\n",
       "      <th>comments_lognorm</th>\n",
       "    </tr>\n",
       "  </thead>\n",
       "  <tbody>\n",
       "    <tr>\n",
       "      <th>0</th>\n",
       "      <td>https://habrahabr.ru/post/18284/</td>\n",
       "      <td>habrahabr.ru</td>\n",
       "      <td>18284</td>\n",
       "      <td>2008-01-01 18:19:00</td>\n",
       "      <td>@Tapac</td>\n",
       "      <td>develop</td>\n",
       "      <td>False</td>\n",
       "      <td>4305</td>\n",
       "      <td>Новогодний подарок блоггерам — WordPress 2.3.2</td>\n",
       "      <td>0</td>\n",
       "      <td>0</td>\n",
       "      <td>236</td>\n",
       "      <td>0.0</td>\n",
       "      <td>0.0</td>\n",
       "      <td>-0.792687</td>\n",
       "      <td>-1.344075</td>\n",
       "      <td>-2.436871</td>\n",
       "    </tr>\n",
       "    <tr>\n",
       "      <th>1</th>\n",
       "      <td>https://habrahabr.ru/post/18285/</td>\n",
       "      <td>habrahabr.ru</td>\n",
       "      <td>18285</td>\n",
       "      <td>2008-01-01 18:30:00</td>\n",
       "      <td>@DezmASter</td>\n",
       "      <td>design</td>\n",
       "      <td>False</td>\n",
       "      <td>7344</td>\n",
       "      <td>Сумасшедшие яйца, или сервис для отслеживания ...</td>\n",
       "      <td>1</td>\n",
       "      <td>1</td>\n",
       "      <td>353</td>\n",
       "      <td>1.0</td>\n",
       "      <td>0.0</td>\n",
       "      <td>-0.485214</td>\n",
       "      <td>-0.831946</td>\n",
       "      <td>-1.873193</td>\n",
       "    </tr>\n",
       "    <tr>\n",
       "      <th>2</th>\n",
       "      <td>https://habrahabr.ru/post/18286/</td>\n",
       "      <td>habrahabr.ru</td>\n",
       "      <td>18286</td>\n",
       "      <td>2008-01-01 18:34:00</td>\n",
       "      <td>@DezmASter</td>\n",
       "      <td>design</td>\n",
       "      <td>False</td>\n",
       "      <td>8431</td>\n",
       "      <td>Сумасшедшие яйца, или сервис для отслеживания ...</td>\n",
       "      <td>47</td>\n",
       "      <td>72</td>\n",
       "      <td>1200</td>\n",
       "      <td>45.0</td>\n",
       "      <td>5.0</td>\n",
       "      <td>0.446090</td>\n",
       "      <td>1.794023</td>\n",
       "      <td>0.574656</td>\n",
       "    </tr>\n",
       "    <tr>\n",
       "      <th>3</th>\n",
       "      <td>https://habrahabr.ru/post/18291/</td>\n",
       "      <td>habrahabr.ru</td>\n",
       "      <td>18291</td>\n",
       "      <td>2008-01-02 01:32:00</td>\n",
       "      <td>@Taoorus</td>\n",
       "      <td>design</td>\n",
       "      <td>False</td>\n",
       "      <td>5662</td>\n",
       "      <td>Сглаживание шрифтов, и субпиксельная отрисовка</td>\n",
       "      <td>102</td>\n",
       "      <td>36</td>\n",
       "      <td>5700</td>\n",
       "      <td>72.0</td>\n",
       "      <td>3.0</td>\n",
       "      <td>1.627469</td>\n",
       "      <td>1.300050</td>\n",
       "      <td>1.167375</td>\n",
       "    </tr>\n",
       "    <tr>\n",
       "      <th>4</th>\n",
       "      <td>https://geektimes.ru/post/18294/</td>\n",
       "      <td>geektimes.ru</td>\n",
       "      <td>18294</td>\n",
       "      <td>2008-01-02 14:34:00</td>\n",
       "      <td>@dennydo</td>\n",
       "      <td>NaN</td>\n",
       "      <td>False</td>\n",
       "      <td>3706</td>\n",
       "      <td>Почему мне не нравится iPhone</td>\n",
       "      <td>230</td>\n",
       "      <td>6</td>\n",
       "      <td>1400</td>\n",
       "      <td>73.0</td>\n",
       "      <td>15.0</td>\n",
       "      <td>1.362397</td>\n",
       "      <td>0.961094</td>\n",
       "      <td>2.020356</td>\n",
       "    </tr>\n",
       "  </tbody>\n",
       "</table>\n",
       "</div>"
      ],
      "text/plain": [
       "                                url        domain  post_id  \\\n",
       "0  https://habrahabr.ru/post/18284/  habrahabr.ru    18284   \n",
       "1  https://habrahabr.ru/post/18285/  habrahabr.ru    18285   \n",
       "2  https://habrahabr.ru/post/18286/  habrahabr.ru    18286   \n",
       "3  https://habrahabr.ru/post/18291/  habrahabr.ru    18291   \n",
       "4  https://geektimes.ru/post/18294/  geektimes.ru    18294   \n",
       "\n",
       "            published      author     flow  polling  content_len  \\\n",
       "0 2008-01-01 18:19:00      @Tapac  develop    False         4305   \n",
       "1 2008-01-01 18:30:00  @DezmASter   design    False         7344   \n",
       "2 2008-01-01 18:34:00  @DezmASter   design    False         8431   \n",
       "3 2008-01-02 01:32:00    @Taoorus   design    False         5662   \n",
       "4 2008-01-02 14:34:00    @dennydo      NaN    False         3706   \n",
       "\n",
       "                                               title  comments  favs  views  \\\n",
       "0     Новогодний подарок блоггерам — WordPress 2.3.2         0     0    236   \n",
       "1  Сумасшедшие яйца, или сервис для отслеживания ...         1     1    353   \n",
       "2  Сумасшедшие яйца, или сервис для отслеживания ...        47    72   1200   \n",
       "3     Сглаживание шрифтов, и субпиксельная отрисовка       102    36   5700   \n",
       "4                      Почему мне не нравится iPhone       230     6   1400   \n",
       "\n",
       "   votes_plus  votes_minus  views_lognorm  favs_lognorm  comments_lognorm  \n",
       "0         0.0          0.0      -0.792687     -1.344075         -2.436871  \n",
       "1         1.0          0.0      -0.485214     -0.831946         -1.873193  \n",
       "2        45.0          5.0       0.446090      1.794023          0.574656  \n",
       "3        72.0          3.0       1.627469      1.300050          1.167375  \n",
       "4        73.0         15.0       1.362397      0.961094          2.020356  "
      ]
     },
     "execution_count": 113,
     "metadata": {},
     "output_type": "execute_result"
    }
   ],
   "source": [
    "train_df.head()"
   ]
  },
  {
   "cell_type": "code",
   "execution_count": 114,
   "metadata": {},
   "outputs": [],
   "source": [
    "train_df['year'] = [d.year for d in train_df.published]"
   ]
  },
  {
   "cell_type": "code",
   "execution_count": 115,
   "metadata": {},
   "outputs": [
    {
     "data": {
      "text/plain": [
       "2015    23452\n",
       "2016    16316\n",
       "2014    16180\n",
       "2012    15972\n",
       "2013    15537\n",
       "2011    15063\n",
       "2010    13091\n",
       "2009    10783\n",
       "2008     7743\n",
       "Name: year, dtype: int64"
      ]
     },
     "execution_count": 115,
     "metadata": {},
     "output_type": "execute_result"
    }
   ],
   "source": [
    "train_df.year.value_counts()"
   ]
  },
  {
   "cell_type": "code",
   "execution_count": 116,
   "metadata": {},
   "outputs": [],
   "source": [
    "features = ['author', 'flow', 'domain','title']\n",
    "train_size = int(0.7 * train_df.shape[0])"
   ]
  },
  {
   "cell_type": "code",
   "execution_count": 117,
   "metadata": {},
   "outputs": [
    {
     "data": {
      "text/plain": [
       "(134137, 93895)"
      ]
     },
     "execution_count": 117,
     "metadata": {},
     "output_type": "execute_result"
    }
   ],
   "source": [
    "len(train_df), train_size"
   ]
  },
  {
   "cell_type": "code",
   "execution_count": 118,
   "metadata": {},
   "outputs": [],
   "source": [
    "X, y = train_df.loc[:, features],  train_df['favs_lognorm'] #отделяем признаки от целевой переменной\n",
    "\n",
    "X_test = test_df.loc[:, features]"
   ]
  },
  {
   "cell_type": "code",
   "execution_count": 119,
   "metadata": {},
   "outputs": [],
   "source": [
    "X_train, X_valid = X.iloc[:train_size, :], X.iloc[train_size:,:]\n",
    "\n",
    "y_train, y_valid = y.iloc[:train_size], y.iloc[train_size:]"
   ]
  },
  {
   "cell_type": "code",
   "execution_count": 120,
   "metadata": {},
   "outputs": [],
   "source": [
    "vectorizer_title = TfidfVectorizer(min_df=3, max_df=0.3, ngram_range=(1, 3))\n",
    "\n",
    "X_train_title = vectorizer_title.fit_transform(X_train['title'])\n",
    "X_valid_title = vectorizer_title.transform(X_valid['title'])\n",
    "X_test_title = vectorizer_title.transform(X_test['title'])"
   ]
  },
  {
   "cell_type": "code",
   "execution_count": 121,
   "metadata": {},
   "outputs": [
    {
     "data": {
      "text/plain": [
       "(93895, 50624)"
      ]
     },
     "execution_count": 121,
     "metadata": {},
     "output_type": "execute_result"
    }
   ],
   "source": [
    "X_train_title.shape"
   ]
  },
  {
   "cell_type": "code",
   "execution_count": 122,
   "metadata": {},
   "outputs": [
    {
     "data": {
      "text/plain": [
       "<93895x50624 sparse matrix of type '<class 'numpy.float64'>'\n",
       "\twith 676626 stored elements in Compressed Sparse Row format>"
      ]
     },
     "execution_count": 122,
     "metadata": {},
     "output_type": "execute_result"
    }
   ],
   "source": [
    "X_train_title"
   ]
  },
  {
   "cell_type": "code",
   "execution_count": 123,
   "metadata": {},
   "outputs": [],
   "source": [
    "# vectorizer_title.vocabulary_"
   ]
  },
  {
   "cell_type": "code",
   "execution_count": 124,
   "metadata": {},
   "outputs": [
    {
     "data": {
      "text/plain": [
       "50624"
      ]
     },
     "execution_count": 124,
     "metadata": {},
     "output_type": "execute_result"
    }
   ],
   "source": [
    "len(vectorizer_title.vocabulary_)"
   ]
  },
  {
   "cell_type": "code",
   "execution_count": 125,
   "metadata": {},
   "outputs": [
    {
     "data": {
      "text/plain": [
       "9065"
      ]
     },
     "execution_count": 125,
     "metadata": {},
     "output_type": "execute_result"
    }
   ],
   "source": [
    "vectorizer_title.vocabulary_['python']"
   ]
  },
  {
   "cell_type": "code",
   "execution_count": 126,
   "metadata": {},
   "outputs": [],
   "source": [
    "vectorizer_title_char = TfidfVectorizer(analyzer='char')\n",
    "\n",
    "X_train_title_char = vectorizer_title_char.fit_transform(X_train['title'])\n",
    "X_valid_title_char = vectorizer_title_char.transform(X_valid['title'])\n",
    "X_test_title_char = vectorizer_title_char.transform(X_test['title'])"
   ]
  },
  {
   "cell_type": "code",
   "execution_count": 127,
   "metadata": {},
   "outputs": [
    {
     "data": {
      "text/plain": [
       "218"
      ]
     },
     "execution_count": 127,
     "metadata": {},
     "output_type": "execute_result"
    }
   ],
   "source": [
    "len(vectorizer_title_char.vocabulary_)"
   ]
  },
  {
   "cell_type": "code",
   "execution_count": 128,
   "metadata": {},
   "outputs": [
    {
     "data": {
      "text/html": [
       "<div>\n",
       "<style scoped>\n",
       "    .dataframe tbody tr th:only-of-type {\n",
       "        vertical-align: middle;\n",
       "    }\n",
       "\n",
       "    .dataframe tbody tr th {\n",
       "        vertical-align: top;\n",
       "    }\n",
       "\n",
       "    .dataframe thead th {\n",
       "        text-align: right;\n",
       "    }\n",
       "</style>\n",
       "<table border=\"1\" class=\"dataframe\">\n",
       "  <thead>\n",
       "    <tr style=\"text-align: right;\">\n",
       "      <th></th>\n",
       "      <th>author</th>\n",
       "      <th>flow</th>\n",
       "      <th>domain</th>\n",
       "    </tr>\n",
       "  </thead>\n",
       "  <tbody>\n",
       "    <tr>\n",
       "      <th>0</th>\n",
       "      <td>@Tapac</td>\n",
       "      <td>develop</td>\n",
       "      <td>habrahabr.ru</td>\n",
       "    </tr>\n",
       "    <tr>\n",
       "      <th>1</th>\n",
       "      <td>@DezmASter</td>\n",
       "      <td>design</td>\n",
       "      <td>habrahabr.ru</td>\n",
       "    </tr>\n",
       "    <tr>\n",
       "      <th>2</th>\n",
       "      <td>@DezmASter</td>\n",
       "      <td>design</td>\n",
       "      <td>habrahabr.ru</td>\n",
       "    </tr>\n",
       "    <tr>\n",
       "      <th>3</th>\n",
       "      <td>@Taoorus</td>\n",
       "      <td>design</td>\n",
       "      <td>habrahabr.ru</td>\n",
       "    </tr>\n",
       "    <tr>\n",
       "      <th>4</th>\n",
       "      <td>@dennydo</td>\n",
       "      <td>NaN</td>\n",
       "      <td>geektimes.ru</td>\n",
       "    </tr>\n",
       "  </tbody>\n",
       "</table>\n",
       "</div>"
      ],
      "text/plain": [
       "       author     flow        domain\n",
       "0      @Tapac  develop  habrahabr.ru\n",
       "1  @DezmASter   design  habrahabr.ru\n",
       "2  @DezmASter   design  habrahabr.ru\n",
       "3    @Taoorus   design  habrahabr.ru\n",
       "4    @dennydo      NaN  geektimes.ru"
      ]
     },
     "execution_count": 128,
     "metadata": {},
     "output_type": "execute_result"
    }
   ],
   "source": [
    "feats = ['author', 'flow', 'domain']\n",
    "X_train[feats][:5]"
   ]
  },
  {
   "cell_type": "code",
   "execution_count": 129,
   "metadata": {},
   "outputs": [
    {
     "data": {
      "text/html": [
       "<div>\n",
       "<style scoped>\n",
       "    .dataframe tbody tr th:only-of-type {\n",
       "        vertical-align: middle;\n",
       "    }\n",
       "\n",
       "    .dataframe tbody tr th {\n",
       "        vertical-align: top;\n",
       "    }\n",
       "\n",
       "    .dataframe thead th {\n",
       "        text-align: right;\n",
       "    }\n",
       "</style>\n",
       "<table border=\"1\" class=\"dataframe\">\n",
       "  <thead>\n",
       "    <tr style=\"text-align: right;\">\n",
       "      <th></th>\n",
       "      <th>author</th>\n",
       "      <th>flow</th>\n",
       "      <th>domain</th>\n",
       "    </tr>\n",
       "  </thead>\n",
       "  <tbody>\n",
       "    <tr>\n",
       "      <th>0</th>\n",
       "      <td>@Tapac</td>\n",
       "      <td>develop</td>\n",
       "      <td>habrahabr.ru</td>\n",
       "    </tr>\n",
       "    <tr>\n",
       "      <th>1</th>\n",
       "      <td>@DezmASter</td>\n",
       "      <td>design</td>\n",
       "      <td>habrahabr.ru</td>\n",
       "    </tr>\n",
       "    <tr>\n",
       "      <th>2</th>\n",
       "      <td>@DezmASter</td>\n",
       "      <td>design</td>\n",
       "      <td>habrahabr.ru</td>\n",
       "    </tr>\n",
       "    <tr>\n",
       "      <th>3</th>\n",
       "      <td>@Taoorus</td>\n",
       "      <td>design</td>\n",
       "      <td>habrahabr.ru</td>\n",
       "    </tr>\n",
       "    <tr>\n",
       "      <th>4</th>\n",
       "      <td>@dennydo</td>\n",
       "      <td>-</td>\n",
       "      <td>geektimes.ru</td>\n",
       "    </tr>\n",
       "  </tbody>\n",
       "</table>\n",
       "</div>"
      ],
      "text/plain": [
       "       author     flow        domain\n",
       "0      @Tapac  develop  habrahabr.ru\n",
       "1  @DezmASter   design  habrahabr.ru\n",
       "2  @DezmASter   design  habrahabr.ru\n",
       "3    @Taoorus   design  habrahabr.ru\n",
       "4    @dennydo        -  geektimes.ru"
      ]
     },
     "execution_count": 129,
     "metadata": {},
     "output_type": "execute_result"
    }
   ],
   "source": [
    "# сначала заполняем пропуски прочерком\n",
    "X_train[feats][:5].fillna('-')"
   ]
  },
  {
   "cell_type": "code",
   "execution_count": 130,
   "metadata": {},
   "outputs": [
    {
     "data": {
      "text/plain": [
       "{0: {'author': '@Tapac', 'flow': 'develop', 'domain': 'habrahabr.ru'},\n",
       " 1: {'author': '@DezmASter', 'flow': 'design', 'domain': 'habrahabr.ru'},\n",
       " 2: {'author': '@DezmASter', 'flow': 'design', 'domain': 'habrahabr.ru'},\n",
       " 3: {'author': '@Taoorus', 'flow': 'design', 'domain': 'habrahabr.ru'},\n",
       " 4: {'author': '@dennydo', 'flow': '-', 'domain': 'geektimes.ru'}}"
      ]
     },
     "execution_count": 130,
     "metadata": {},
     "output_type": "execute_result"
    }
   ],
   "source": [
    "# Преобразуем датафрейм в словарь, где ключами являются индексы объектов (именно для этого мы транспонировали датафрейм),\n",
    "# а значениями являются словари в виде 'название_колонки':'значение'\n",
    "X_train[feats][:5].fillna('-').T.to_dict()"
   ]
  },
  {
   "cell_type": "code",
   "execution_count": 131,
   "metadata": {},
   "outputs": [
    {
     "data": {
      "text/plain": [
       "dict_values([{'author': '@Tapac', 'flow': 'develop', 'domain': 'habrahabr.ru'}, {'author': '@DezmASter', 'flow': 'design', 'domain': 'habrahabr.ru'}, {'author': '@DezmASter', 'flow': 'design', 'domain': 'habrahabr.ru'}, {'author': '@Taoorus', 'flow': 'design', 'domain': 'habrahabr.ru'}, {'author': '@dennydo', 'flow': '-', 'domain': 'geektimes.ru'}])"
      ]
     },
     "execution_count": 131,
     "metadata": {},
     "output_type": "execute_result"
    }
   ],
   "source": [
    "# В DictVectorizer нам нужно будет передать список словарей для каждого объекта в виде 'название_колонки':'значение',\n",
    "# поэтому используем .values()\n",
    "X_train[feats][:5].fillna('-').T.to_dict().values()"
   ]
  },
  {
   "cell_type": "code",
   "execution_count": 132,
   "metadata": {},
   "outputs": [
    {
     "data": {
      "text/plain": [
       "<5x9 sparse matrix of type '<class 'numpy.float64'>'\n",
       "\twith 15 stored elements in Compressed Sparse Row format>"
      ]
     },
     "execution_count": 132,
     "metadata": {},
     "output_type": "execute_result"
    }
   ],
   "source": [
    "# В итоге получается разреженная матрица\n",
    "dict_vect = DictVectorizer()\n",
    "dict_vect_matrix = dict_vect.fit_transform(X_train[feats][:5].fillna('-').T.to_dict().values())\n",
    "dict_vect_matrix"
   ]
  },
  {
   "cell_type": "code",
   "execution_count": 133,
   "metadata": {},
   "outputs": [
    {
     "data": {
      "text/plain": [
       "array([[0., 0., 1., 0., 0., 1., 0., 0., 1.],\n",
       "       [1., 0., 0., 0., 0., 1., 0., 1., 0.],\n",
       "       [1., 0., 0., 0., 0., 1., 0., 1., 0.],\n",
       "       [0., 1., 0., 0., 0., 1., 0., 1., 0.],\n",
       "       [0., 0., 0., 1., 1., 0., 1., 0., 0.]])"
      ]
     },
     "execution_count": 133,
     "metadata": {},
     "output_type": "execute_result"
    }
   ],
   "source": [
    "# Но можно преобразовать ее в numpy array с помощью .toarray()\n",
    "dict_vect_matrix.toarray()"
   ]
  },
  {
   "cell_type": "code",
   "execution_count": 134,
   "metadata": {},
   "outputs": [
    {
     "data": {
      "text/plain": [
       "(5, 9)"
      ]
     },
     "execution_count": 134,
     "metadata": {},
     "output_type": "execute_result"
    }
   ],
   "source": [
    "# В получившейся матрице 5 строк (по числу объектов) и 9 столбцов\n",
    "# Далее разберемся почему колонок именно 9\n",
    "dict_vect_matrix.shape"
   ]
  },
  {
   "cell_type": "code",
   "execution_count": 135,
   "metadata": {},
   "outputs": [
    {
     "name": "stdout",
     "output_type": "stream",
     "text": [
      "author 4\n",
      "flow 3\n",
      "domain 2\n"
     ]
    }
   ],
   "source": [
    "for col in feats:\n",
    "    print(col,len(X_train[col][:5].fillna('-').unique()))"
   ]
  },
  {
   "cell_type": "code",
   "execution_count": 136,
   "metadata": {},
   "outputs": [
    {
     "data": {
      "text/plain": [
       "['author=@DezmASter',\n",
       " 'author=@Taoorus',\n",
       " 'author=@Tapac',\n",
       " 'author=@dennydo',\n",
       " 'domain=geektimes.ru',\n",
       " 'domain=habrahabr.ru',\n",
       " 'flow=-',\n",
       " 'flow=design',\n",
       " 'flow=develop']"
      ]
     },
     "execution_count": 136,
     "metadata": {},
     "output_type": "execute_result"
    }
   ],
   "source": [
    "# например, самая первая колонка называется 'author=@DezmASter' - то есть принимает значение 1 только если автор @DezmASter\n",
    "dict_vect.feature_names_"
   ]
  },
  {
   "cell_type": "code",
   "execution_count": 137,
   "metadata": {},
   "outputs": [],
   "source": [
    "vectorizer_feats = DictVectorizer()\n",
    "\n",
    "X_train_feats = vectorizer_feats.fit_transform(X_train.loc[:, feats].fillna('-').T.to_dict().values())\n",
    "X_valid_feats = vectorizer_feats.transform(X_valid.loc[:, feats].fillna('-').T.to_dict().values())\n",
    "X_test_feats = vectorizer_feats.transform(X_test.loc[:, feats].fillna('-').T.to_dict().values())"
   ]
  },
  {
   "cell_type": "code",
   "execution_count": 138,
   "metadata": {},
   "outputs": [
    {
     "data": {
      "text/plain": [
       "(93895, 17869)"
      ]
     },
     "execution_count": 138,
     "metadata": {},
     "output_type": "execute_result"
    }
   ],
   "source": [
    "X_train_feats.shape"
   ]
  },
  {
   "cell_type": "code",
   "execution_count": 139,
   "metadata": {},
   "outputs": [],
   "source": [
    "X_train_new = scipy.sparse.hstack([X_train_title, X_train_feats, X_train_title_char])\n",
    "X_valid_new = scipy.sparse.hstack([X_valid_title, X_valid_feats, X_valid_title_char])\n",
    "X_test_new =  scipy.sparse.hstack([X_test_title, X_test_feats, X_test_title_char])"
   ]
  },
  {
   "cell_type": "code",
   "execution_count": 140,
   "metadata": {},
   "outputs": [
    {
     "name": "stdout",
     "output_type": "stream",
     "text": [
      "CPU times: user 26.2 s, sys: 30.2 ms, total: 26.2 s\n",
      "Wall time: 27.2 s\n"
     ]
    },
    {
     "data": {
      "text/plain": [
       "Ridge(alpha=0.1, copy_X=True, fit_intercept=True, max_iter=None,\n",
       "      normalize=False, random_state=1, solver='auto', tol=0.001)"
      ]
     },
     "execution_count": 140,
     "metadata": {},
     "output_type": "execute_result"
    }
   ],
   "source": [
    "%%time\n",
    "model1 = Ridge(alpha=0.1, random_state = 1)\n",
    "model1.fit(X_train_new, y_train)"
   ]
  },
  {
   "cell_type": "code",
   "execution_count": 141,
   "metadata": {},
   "outputs": [
    {
     "name": "stdout",
     "output_type": "stream",
     "text": [
      "Ошибка на трейне 0.1841070315818382\n",
      "Ошибка на тесте 0.9026475546335916\n"
     ]
    }
   ],
   "source": [
    "train_preds1 = model1.predict(X_train_new)\n",
    "valid_preds1 = model1.predict(X_valid_new)\n",
    "\n",
    "print('Ошибка на трейне',mean_squared_error(y_train, train_preds1))\n",
    "print('Ошибка на тесте',mean_squared_error(y_valid, valid_preds1))"
   ]
  },
  {
   "cell_type": "code",
   "execution_count": 142,
   "metadata": {},
   "outputs": [
    {
     "name": "stdout",
     "output_type": "stream",
     "text": [
      "CPU times: user 11.1 s, sys: 8.48 ms, total: 11.1 s\n",
      "Wall time: 12.4 s\n"
     ]
    },
    {
     "data": {
      "text/plain": [
       "Ridge(alpha=1.0, copy_X=True, fit_intercept=True, max_iter=None,\n",
       "      normalize=False, random_state=1, solver='auto', tol=0.001)"
      ]
     },
     "execution_count": 142,
     "metadata": {},
     "output_type": "execute_result"
    }
   ],
   "source": [
    "%%time\n",
    "model2 = Ridge(alpha=1.0, random_state = 1)\n",
    "model2.fit(X_train_new, y_train)"
   ]
  },
  {
   "cell_type": "code",
   "execution_count": 143,
   "metadata": {},
   "outputs": [
    {
     "name": "stdout",
     "output_type": "stream",
     "text": [
      "Ошибка на трейне 0.28624407470983093\n",
      "Ошибка на тесте 0.7011446274342478\n"
     ]
    }
   ],
   "source": [
    "train_preds2 = model2.predict(X_train_new)\n",
    "valid_preds2 = model2.predict(X_valid_new)\n",
    "\n",
    "print('Ошибка на трейне',mean_squared_error(y_train, train_preds2))\n",
    "print('Ошибка на тесте',mean_squared_error(y_valid, valid_preds2))"
   ]
  },
  {
   "cell_type": "code",
   "execution_count": 144,
   "metadata": {},
   "outputs": [],
   "source": [
    "X_all = scipy.sparse.vstack([X_train_new, X_valid_new])"
   ]
  },
  {
   "cell_type": "code",
   "execution_count": 145,
   "metadata": {},
   "outputs": [
    {
     "name": "stdout",
     "output_type": "stream",
     "text": [
      "CPU times: user 14.3 s, sys: 56.1 ms, total: 14.4 s\n",
      "Wall time: 15 s\n"
     ]
    }
   ],
   "source": [
    "%%time\n",
    "model = Ridge()\n",
    "\n",
    "model.fit(X_all, y)\n",
    "\n",
    "test_preds = model.predict(X_test_new)"
   ]
  },
  {
   "cell_type": "code",
   "execution_count": 148,
   "metadata": {},
   "outputs": [],
   "source": [
    "sample_submission = pd.read_csv('habr_sample_submission.csv', index_col='url')"
   ]
  },
  {
   "cell_type": "code",
   "execution_count": 149,
   "metadata": {},
   "outputs": [
    {
     "data": {
      "text/html": [
       "<div>\n",
       "<style scoped>\n",
       "    .dataframe tbody tr th:only-of-type {\n",
       "        vertical-align: middle;\n",
       "    }\n",
       "\n",
       "    .dataframe tbody tr th {\n",
       "        vertical-align: top;\n",
       "    }\n",
       "\n",
       "    .dataframe thead th {\n",
       "        text-align: right;\n",
       "    }\n",
       "</style>\n",
       "<table border=\"1\" class=\"dataframe\">\n",
       "  <thead>\n",
       "    <tr style=\"text-align: right;\">\n",
       "      <th></th>\n",
       "      <th>favs_lognorm</th>\n",
       "    </tr>\n",
       "    <tr>\n",
       "      <th>url</th>\n",
       "      <th></th>\n",
       "    </tr>\n",
       "  </thead>\n",
       "  <tbody>\n",
       "    <tr>\n",
       "      <th>https://habrahabr.ru/post/314080/</th>\n",
       "      <td>0.323588</td>\n",
       "    </tr>\n",
       "    <tr>\n",
       "      <th>https://habrahabr.ru/company/plesk/blog/313732/</th>\n",
       "      <td>0.560105</td>\n",
       "    </tr>\n",
       "    <tr>\n",
       "      <th>https://habrahabr.ru/company/etagi/blog/314000/</th>\n",
       "      <td>0.667039</td>\n",
       "    </tr>\n",
       "    <tr>\n",
       "      <th>https://habrahabr.ru/company/knopka/blog/314030/</th>\n",
       "      <td>0.149563</td>\n",
       "    </tr>\n",
       "    <tr>\n",
       "      <th>https://geektimes.ru/company/audiomania/blog/282058/</th>\n",
       "      <td>0.670754</td>\n",
       "    </tr>\n",
       "  </tbody>\n",
       "</table>\n",
       "</div>"
      ],
      "text/plain": [
       "                                                    favs_lognorm\n",
       "url                                                             \n",
       "https://habrahabr.ru/post/314080/                       0.323588\n",
       "https://habrahabr.ru/company/plesk/blog/313732/         0.560105\n",
       "https://habrahabr.ru/company/etagi/blog/314000/         0.667039\n",
       "https://habrahabr.ru/company/knopka/blog/314030/        0.149563\n",
       "https://geektimes.ru/company/audiomania/blog/28...      0.670754"
      ]
     },
     "execution_count": 149,
     "metadata": {},
     "output_type": "execute_result"
    }
   ],
   "source": [
    "sample_submission.head()"
   ]
  },
  {
   "cell_type": "code",
   "execution_count": 150,
   "metadata": {},
   "outputs": [],
   "source": [
    "ridge_submission = sample_submission.copy()\n",
    "ridge_submission['favs_lognorm'] = test_preds\n",
    "# это будет бейзлайн \"Простое решение\"\n",
    "ridge_submission.to_csv('ridge_baseline.csv') "
   ]
  },
  {
   "cell_type": "code",
   "execution_count": null,
   "metadata": {},
   "outputs": [],
   "source": []
  }
 ],
 "metadata": {
  "kernelspec": {
   "display_name": "Python 3",
   "language": "python",
   "name": "python3"
  },
  "language_info": {
   "codemirror_mode": {
    "name": "ipython",
    "version": 3
   },
   "file_extension": ".py",
   "mimetype": "text/x-python",
   "name": "python",
   "nbconvert_exporter": "python",
   "pygments_lexer": "ipython3",
   "version": "3.7.3"
  }
 },
 "nbformat": 4,
 "nbformat_minor": 4
}
